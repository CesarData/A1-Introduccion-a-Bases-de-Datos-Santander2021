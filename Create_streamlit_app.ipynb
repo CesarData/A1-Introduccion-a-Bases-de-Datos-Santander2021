{
  "nbformat": 4,
  "nbformat_minor": 0,
  "metadata": {
    "colab": {
      "provenance": [],
      "include_colab_link": true
    },
    "kernelspec": {
      "name": "python3",
      "display_name": "Python 3"
    }
  },
  "cells": [
    {
      "cell_type": "markdown",
      "metadata": {
        "id": "view-in-github",
        "colab_type": "text"
      },
      "source": [
        "<a href=\"https://colab.research.google.com/github/CesarData/A1-Introduccion-a-Bases-de-Datos-Santander2021/blob/main/Create_streamlit_app.ipynb\" target=\"_parent\"><img src=\"https://colab.research.google.com/assets/colab-badge.svg\" alt=\"Open In Colab\"/></a>"
      ]
    },
    {
      "cell_type": "markdown",
      "metadata": {
        "id": "vWmc_s2ezvU0"
      },
      "source": [
        "# Run streamlit app from a Google Colab Notebook\n",
        "> Created by [Manuel Romero](https://twitter.com/mrm8488)"
      ]
    },
    {
      "cell_type": "code",
      "metadata": {
        "id": "RvlYkCQ9vFiy"
      },
      "source": [
        "!pip install -q streamlit"
      ],
      "execution_count": 26,
      "outputs": []
    },
    {
      "cell_type": "code",
      "source": [],
      "metadata": {
        "id": "an2C3c_0Ooi9"
      },
      "execution_count": 17,
      "outputs": []
    },
    {
      "cell_type": "code",
      "source": [
        "# Sample data (replace with your actual data)\n",
        "data = pd.DataFrame({\n",
        "  'latitude': [37.7749, 34.0522, 40.7128],\n",
        "  'longitude': [-122.4194, -118.2437, -74.0060],\n",
        "  'color_r': [255, 0, 0],\n",
        "  'color_g': [0, 255, 0],\n",
        "  'color_b': [0, 0, 255],\n",
        "  'radius': [1000, 500, 750]\n",
        "})"
      ],
      "metadata": {
        "id": "s9boRZ2d6PF2"
      },
      "execution_count": 27,
      "outputs": []
    },
    {
      "cell_type": "markdown",
      "metadata": {
        "id": "waCfwniZOow8"
      },
      "source": [
        "## Create a streamlit app example\n"
      ]
    },
    {
      "cell_type": "code",
      "source": [
        "%%writefile app.py\n",
        "import streamlit as st\n",
        "import pydeck\n",
        "import pandas as pd\n",
        "\n",
        "# Sample data (replace with your actual data)\n",
        "data = pd.DataFrame({\n",
        "  'latitude': [37.7749, 34.0522, 40.7128],\n",
        "  'longitude': [-122.4194, -118.2437, -74.0060],\n",
        "  'color_r': [255, 0, 0],\n",
        "  'color_g': [0, 255, 0],\n",
        "  'color_b': [0, 0, 255],\n",
        "  'radius': [1000, 500, 750]\n",
        "})\n",
        "\n",
        "layer = pydeck.Layer(\n",
        "        \"ScatterplotLayer\",\n",
        "        data,\n",
        "        get_position=[\"longitude\", \"latitude\"],\n",
        "        get_fill_color=[\"color_r\", \"color_g\", \"color_b\", 160],\n",
        "        get_radius=\"radius\",\n",
        "        pickable=True,\n",
        "        use_binary_transport=True  # Enable binary transport\n",
        "    )\n",
        "\n",
        "# Define the ViewState\n",
        "view_state = pydeck.ViewState(latitude=37.7749, longitude=-122.4194, zoom=10, pitch=50)\n",
        "\n",
        "# Create a Deck object\n",
        "r = pydeck.Deck(layers=[layer], initial_view_state=view_state)\n",
        "\n",
        "# Display the chart in Streamlit\n",
        "st.pydeck_chart(r)"
      ],
      "metadata": {
        "id": "meJ36PefNftd"
      },
      "execution_count": null,
      "outputs": []
    },
    {
      "cell_type": "markdown",
      "metadata": {
        "id": "xZlEJkmSOoxC"
      },
      "source": [
        "## Install localtunnel"
      ]
    },
    {
      "cell_type": "code",
      "metadata": {
        "colab": {
          "base_uri": "https://localhost:8080/"
        },
        "outputId": "0e3d218f-dec9-4ca1-9939-649e11fe3d3d",
        "id": "ZAyqQCQVOoxC"
      },
      "source": [
        "!npm install localtunnel"
      ],
      "execution_count": 29,
      "outputs": [
        {
          "output_type": "stream",
          "name": "stdout",
          "text": [
            "\u001b[1G\u001b[0K⠙\u001b[1G\u001b[0K⠹\u001b[1G\u001b[0K⠸\u001b[1G\u001b[0K⠼\u001b[1G\u001b[0K⠴\u001b[1G\u001b[0K\n",
            "up to date, audited 23 packages in 1s\n",
            "\u001b[1G\u001b[0K⠦\u001b[1G\u001b[0K\n",
            "\u001b[1G\u001b[0K⠦\u001b[1G\u001b[0K3 packages are looking for funding\n",
            "\u001b[1G\u001b[0K⠦\u001b[1G\u001b[0K  run `npm fund` for details\n",
            "\u001b[1G\u001b[0K⠦\u001b[1G\u001b[0K\n",
            "2 \u001b[31m\u001b[1mhigh\u001b[22m\u001b[39m severity vulnerabilities\n",
            "\n",
            "To address all issues (including breaking changes), run:\n",
            "  npm audit fix --force\n",
            "\n",
            "Run `npm audit` for details.\n",
            "\u001b[1G\u001b[0K⠦\u001b[1G\u001b[0K"
          ]
        }
      ]
    },
    {
      "cell_type": "markdown",
      "source": [
        "## Run streamlit in background"
      ],
      "metadata": {
        "id": "kccYE2lkN20y"
      }
    },
    {
      "cell_type": "code",
      "source": [
        "!streamlit run /content/app.py &>/content/logs.txt & curl https://ipv4.icanhazip.com"
      ],
      "metadata": {
        "id": "Zv912rRAN0fs",
        "outputId": "a16cc7f5-ef56-4ece-8320-e6b36c8f9c19",
        "colab": {
          "base_uri": "https://localhost:8080/"
        }
      },
      "execution_count": 30,
      "outputs": [
        {
          "output_type": "stream",
          "name": "stdout",
          "text": [
            "34.138.201.170\n"
          ]
        }
      ]
    },
    {
      "cell_type": "markdown",
      "source": [
        "## Expose the port 8501\n",
        "Then just click in the `url` showed.\n",
        "\n",
        "A `log.txt`file will be created."
      ],
      "metadata": {
        "id": "h_KW9juhOCuH"
      }
    },
    {
      "cell_type": "code",
      "source": [
        "!npx localtunnel --port 8501"
      ],
      "metadata": {
        "id": "XTGAizLhOIgC",
        "outputId": "bb46baf3-553f-4e14-a87c-b66c7e6be76f",
        "colab": {
          "base_uri": "https://localhost:8080/"
        }
      },
      "execution_count": null,
      "outputs": [
        {
          "output_type": "stream",
          "name": "stdout",
          "text": [
            "\u001b[1G\u001b[0K⠙\u001b[1G\u001b[0Kyour url is: https://lucky-humans-jog.loca.lt\n"
          ]
        }
      ]
    },
    {
      "cell_type": "markdown",
      "metadata": {
        "id": "GVz-H__pOoxG"
      },
      "source": [
        "[![ko-fi](https://www.ko-fi.com/img/githubbutton_sm.svg)](https://ko-fi.com/Y8Y3VYYE)"
      ]
    }
  ]
}